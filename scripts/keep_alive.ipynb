{
 "cells": [
  {
   "cell_type": "code",
   "execution_count": 1,
   "id": "7e7aa9ec-1d6e-4785-9c6a-2b0bf53e3584",
   "metadata": {},
   "outputs": [
    {
     "name": "stdout",
     "output_type": "stream",
     "text": [
      "This script can ensure jupyterhub-idle-culler isn't going to stop this server due to inactivity by having an busy kernel that also generates some output regularly.\n",
      "\n"
     ]
    },
    {
     "name": "stdin",
     "output_type": "stream",
     "text": [
      "   Enter hours of activity:  10\n"
     ]
    },
    {
     "name": "stdout",
     "output_type": "stream",
     "text": [
      "\n",
      "Generating kernel output every minute for a 10 hours:\n",
      "\n",
      "Hour 0: ........................................................\n",
      "Hour 1: ..........................................................\n",
      "Hour 2: ............................................................\n",
      "Hour 3: .........................................................\n",
      "Hour 4: ..........................................................\n",
      "Hour 5: ............................................................\n",
      "Hour 6: ......................................................\n",
      "Hour 7: ......................................................\n",
      "Hour 8: ..........................................................\n",
      "Hour 9: ..........................................................\n",
      "Done generating kernel output!\n"
     ]
    }
   ],
   "source": [
    "# This script was based on the idea described by Min RK in\n",
    "# https://github.com/jupyterhub/jupyterhub-idle-culler/issues/55\n",
    "#\n",
    "import time\n",
    "\n",
    "print(\n",
    "    \"This script can ensure jupyterhub-idle-culler isn't going to \"\n",
    "    \"stop this server due to inactivity by having an busy kernel \"\n",
    "    \"that also generates some output regularly.\\n\"\n",
    ")\n",
    "\n",
    "hours = int(input(\"   Enter hours of activity: \"))\n",
    "\n",
    "print(f\"\\nGenerating kernel output every minute for a {hours} hours:\\n\")\n",
    "\n",
    "# loop over all hours and print 60 dots for each\n",
    "for hour in range(hours):\n",
    "    print(f\"Hour {hour}: \", end=\"\")\n",
    "    for min in range(60):\n",
    "        time.sleep(60)\n",
    "        print(\".\", end=\"\")\n",
    "    print()\n",
    "\n",
    "print(\"Done generating kernel output!\")"
   ]
  },
  {
   "cell_type": "code",
   "execution_count": null,
   "id": "2da3aada-a1c0-4de5-8b45-421529d9a3f2",
   "metadata": {},
   "outputs": [],
   "source": []
  }
 ],
 "metadata": {
  "kernelspec": {
   "display_name": "Python [conda env:.conda-oggm_env]",
   "language": "python",
   "name": "conda-env-.conda-oggm_env-py"
  },
  "language_info": {
   "codemirror_mode": {
    "name": "ipython",
    "version": 3
   },
   "file_extension": ".py",
   "mimetype": "text/x-python",
   "name": "python",
   "nbconvert_exporter": "python",
   "pygments_lexer": "ipython3",
   "version": "3.9.9"
  }
 },
 "nbformat": 4,
 "nbformat_minor": 5
}
